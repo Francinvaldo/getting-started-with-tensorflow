{
 "cells": [
  {
   "cell_type": "markdown",
   "metadata": {},
   "source": [
    "Chapter 2. Doing Math with\n",
    "TensorFlow\n",
    "\n",
    "  - In this chapter, we will cover the following topics:\n",
    "  - The tensor data structure\n",
    "  - Handling tensors with TensorFlow\n",
    "  - Complex numbers and fractals\n",
    "  - Computing derivatives\n",
    "  - Random numbers\n",
    "  - Solving partial differential equations"
   ]
  },
  {
   "cell_type": "code",
   "execution_count": null,
   "metadata": {
    "collapsed": true
   },
   "outputs": [],
   "source": []
  }
 ],
 "metadata": {
  "kernelspec": {
   "display_name": "Python 3",
   "language": "python",
   "name": "python3"
  },
  "language_info": {
   "codemirror_mode": {
    "name": "ipython",
    "version": 3
   },
   "file_extension": ".py",
   "mimetype": "text/x-python",
   "name": "python",
   "nbconvert_exporter": "python",
   "pygments_lexer": "ipython3",
   "version": "3.5.2"
  }
 },
 "nbformat": 4,
 "nbformat_minor": 2
}
