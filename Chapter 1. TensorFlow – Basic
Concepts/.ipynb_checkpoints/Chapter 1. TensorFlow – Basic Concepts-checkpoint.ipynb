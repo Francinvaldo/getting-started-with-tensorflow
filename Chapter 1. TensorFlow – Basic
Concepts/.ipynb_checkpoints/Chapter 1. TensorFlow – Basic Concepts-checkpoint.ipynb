{
 "cells": [
  {
   "cell_type": "markdown",
   "metadata": {},
   "source": [
    "Chapter 1. TensorFlow – Basic\n",
    "Concepts\n",
    "\n",
    "\n",
    "\n",
    "  - Machine learning and deep learning basics\n",
    "  - TensorFlow – A general overview\n",
    "  - Python basics\n",
    "  - Installing TensorFlow\n",
    "  - [First working session](First working session.ipynb)\n",
    "  - Data Flow Graph\n",
    "  - [TensorFlow programming model](TensorFlow programming model.ipynb)\n",
    "  - How to use TensorBoard"
   ]
  },
  {
   "cell_type": "markdown",
   "metadata": {},
   "source": []
  }
 ],
 "metadata": {
  "kernelspec": {
   "display_name": "Python 3",
   "language": "python",
   "name": "python3"
  },
  "language_info": {
   "codemirror_mode": {
    "name": "ipython",
    "version": 3
   },
   "file_extension": ".py",
   "mimetype": "text/x-python",
   "name": "python",
   "nbconvert_exporter": "python",
   "pygments_lexer": "ipython3",
   "version": "3.5.2"
  }
 },
 "nbformat": 4,
 "nbformat_minor": 2
}
