{
 "cells": [
  {
   "cell_type": "markdown",
   "metadata": {},
   "source": [
    "Chapter 4. Introducing Neural\n",
    "Networks\n",
    "\n",
    "\n",
    "In this chapter, we will cover the following topics:\n",
    "* What are neural networks?\n",
    "* Single Layer Perceptron\n",
    "* Logistic regression\n",
    "* Multi Layer Perceptron\n",
    "* Multi Layer Perceptron classification\n",
    "* Multi Layer Perceptron function approximation"
   ]
  },
  {
   "cell_type": "code",
   "execution_count": null,
   "metadata": {
    "collapsed": true
   },
   "outputs": [],
   "source": []
  }
 ],
 "metadata": {
  "kernelspec": {
   "display_name": "Python 3",
   "language": "python",
   "name": "python3"
  },
  "language_info": {
   "codemirror_mode": {
    "name": "ipython",
    "version": 3
   },
   "file_extension": ".py",
   "mimetype": "text/x-python",
   "name": "python",
   "nbconvert_exporter": "python",
   "pygments_lexer": "ipython3",
   "version": "3.5.2"
  }
 },
 "nbformat": 4,
 "nbformat_minor": 2
}
