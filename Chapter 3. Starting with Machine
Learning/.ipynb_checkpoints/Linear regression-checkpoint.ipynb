{
 "cells": [
  {
   "cell_type": "code",
   "execution_count": 1,
   "metadata": {
    "collapsed": true
   },
   "outputs": [],
   "source": [
    "import numpy as np\n",
    "import tensorflow as tf \n",
    "import matplotlib.pyplot as plt\n",
    "%matplotlib notebook\n",
    "%matplotlib inline"
   ]
  },
  {
   "cell_type": "markdown",
   "metadata": {},
   "source": [
    "The linear regression algorithm\n",
    "In this section, we begin our exploration of machine learning techniques with the\n",
    "linear regression algorithm. Our goal is to build a model by which to predict the\n",
    "values of a dependent variable from the values of one or more independent\n",
    "variables.\n",
    "The relationship between these two variables is linear; that is, if y is the\n",
    "dependent variable and x the independent, then the linear relationship between\n",
    "the two variables will look like this: y = Ax + b.\n",
    "The linear regression algorithm adapts to a great variety of situations; for its\n",
    "versatility, it is used extensively in the field of applied sciences, for example,\n",
    "biology and economics.\n",
    "Furthermore, the implementation of this algorithm allows us to introduce in a\n",
    "totally clear and understandable way the two important concepts of machine\n",
    "learning: the cost function and the gradient descent algorithms."
   ]
  },
  {
   "cell_type": "code",
   "execution_count": 2,
   "metadata": {},
   "outputs": [
    {
     "data": {
      "image/png": "[encoded data removed]",
      "text/plain": [
       "<matplotlib.figure.Figure at 0x7f7608463b00>"
      ]
     },
     "metadata": {},
     "output_type": "display_data"
    }
   ],
   "source": [
    "number_pon = 500\n",
    "\n",
    "\n",
    "x_p = []\n",
    "y_p = []\n",
    "\n",
    "# y = 0.22x + 0.78\n",
    "a  , b = 0.22 , 0.78 \n",
    "\n",
    "for i in range(number_pon):\n",
    "    x = np.random.normal(0.0 , 0.5)\n",
    "    y = 0.22*x + b  + np.random.normal(0.0 , 0.1)\n",
    "    x_p.append([x])\n",
    "    y_p.append([y])\n",
    "    \n",
    "plt.plot(x_p , y_p , 'o ', label = 'Input Data')\n",
    "plt.legend()\n",
    "plt.show()\n",
    "\n",
    "#pasar para o tensorflow\n",
    "\n",
    "A = tf.Variable(tf.random_uniform([1], -1.0 , 1.0 ))\n",
    "B = tf.Variable(tf.zeros([1]))\n",
    "#y = A * x_p + B\n",
    "\n",
    "\n"
   ]
  },
  {
   "cell_type": "code",
   "execution_count": 8,
   "metadata": {},
   "outputs": [
    {
     "name": "stdout",
     "output_type": "stream",
     "text": [
      "None\n",
      "[ 0.85927105]\n"
     ]
    }
   ],
   "source": [
    "#EXECEUTA O TENSOR\n",
    "\n",
    "#modelo  = tf.initialize_all_variables()\n",
    "\n",
    "\n",
    "with tf.Session() as sess:\n",
    "    print(sess.run(modelo))\n",
    "    print(sess.run(A))\n"
   ]
  },
  {
   "cell_type": "code",
   "execution_count": null,
   "metadata": {
    "collapsed": true
   },
   "outputs": [],
   "source": []
  }
 ],
 "metadata": {
  "kernelspec": {
   "display_name": "Python 3",
   "language": "python",
   "name": "python3"
  },
  "language_info": {
   "codemirror_mode": {
    "name": "ipython",
    "version": 3
   },
   "file_extension": ".py",
   "mimetype": "text/x-python",
   "name": "python",
   "nbconvert_exporter": "python",
   "pygments_lexer": "ipython3",
   "version": "3.5.2"
  }
 },
 "nbformat": 4,
 "nbformat_minor": 2
}
